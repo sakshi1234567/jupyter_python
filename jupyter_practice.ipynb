{
 "cells": [
  {
   "cell_type": "code",
   "execution_count": 2,
   "metadata": {},
   "outputs": [
    {
     "name": "stdout",
     "output_type": "stream",
     "text": [
      "10\n",
      "<class 'int'>\n",
      "255\n",
      "<class 'int'>\n"
     ]
    }
   ],
   "source": [
    "#int type\n",
    "a = 0B1010\n",
    "print(a)\n",
    "print(type(a))\n",
    "\n",
    "b = 0XFF\n",
    "print(b)\n",
    "print(type(b))"
   ]
  },
  {
   "cell_type": "code",
   "execution_count": 4,
   "metadata": {},
   "outputs": [
    {
     "name": "stdout",
     "output_type": "stream",
     "text": [
      "True\n",
      "<class 'bool'>\n"
     ]
    }
   ],
   "source": [
    "#boolean type\n",
    "c = True\n",
    "print(c)\n",
    "print(type(c))"
   ]
  },
  {
   "cell_type": "code",
   "execution_count": 5,
   "metadata": {},
   "outputs": [
    {
     "name": "stdout",
     "output_type": "stream",
     "text": [
      "99.5\n",
      "<class 'float'>\n"
     ]
    }
   ],
   "source": [
    "#float type\n",
    "x = 99.5\n",
    "print(x)\n",
    "print(type(x))"
   ]
  },
  {
   "cell_type": "code",
   "execution_count": 7,
   "metadata": {},
   "outputs": [
    {
     "name": "stdout",
     "output_type": "stream",
     "text": [
      "99\n",
      "<class 'int'>\n"
     ]
    }
   ],
   "source": [
    "#int type\n",
    "y = int(x)\n",
    "print(y)\n",
    "print(type(y))"
   ]
  },
  {
   "cell_type": "code",
   "execution_count": 8,
   "metadata": {},
   "outputs": [
    {
     "name": "stdout",
     "output_type": "stream",
     "text": [
      "66.0\n",
      "<class 'float'>\n"
     ]
    }
   ],
   "source": [
    "#float type\n",
    "a = 66\n",
    "b = float(a)\n",
    "print(b)\n",
    "print(type(b))"
   ]
  },
  {
   "cell_type": "code",
   "execution_count": 9,
   "metadata": {},
   "outputs": [
    {
     "name": "stdout",
     "output_type": "stream",
     "text": [
      "65.0\n",
      "<class 'float'>\n"
     ]
    }
   ],
   "source": [
    "a = float(\"65\")\n",
    "print(a)\n",
    "print(type(a))"
   ]
  },
  {
   "cell_type": "code",
   "execution_count": 10,
   "metadata": {},
   "outputs": [
    {
     "name": "stdout",
     "output_type": "stream",
     "text": [
      "0b10100\n"
     ]
    }
   ],
   "source": [
    "#binary\n",
    "print(bin(20))"
   ]
  },
  {
   "cell_type": "code",
   "execution_count": 11,
   "metadata": {},
   "outputs": [
    {
     "name": "stdout",
     "output_type": "stream",
     "text": [
      "0xa\n"
     ]
    }
   ],
   "source": [
    "#hexadecimal\n",
    "print(hex(10))"
   ]
  },
  {
   "cell_type": "code",
   "execution_count": 12,
   "metadata": {},
   "outputs": [
    {
     "name": "stdout",
     "output_type": "stream",
     "text": [
      "0o12\n"
     ]
    }
   ],
   "source": [
    "#octadecimal\n",
    "print(oct(10))"
   ]
  },
  {
   "cell_type": "code",
   "execution_count": 16,
   "metadata": {},
   "outputs": [
    {
     "name": "stdout",
     "output_type": "stream",
     "text": [
      "0o12\n"
     ]
    }
   ],
   "source": [
    "print(oct(10))"
   ]
  },
  {
   "cell_type": "code",
   "execution_count": 21,
   "metadata": {},
   "outputs": [
    {
     "name": "stdout",
     "output_type": "stream",
     "text": [
      "Hey my name is sakshi\n",
      "Hey my name is sakshi     \n",
      "     Hey my name is sakshi\n",
      "12\n",
      "     Hey my name is swati     \n"
     ]
    }
   ],
   "source": [
    "#strip methods\n",
    "s = \"     Hey my name is sakshi     \"\n",
    "print(s.strip())\n",
    "print(s.lstrip())\n",
    "print(s.rstrip())\n",
    "print(s.find(\"nam\"))\n",
    "print(s.replace(\"sakshi\",\"swati\"))"
   ]
  },
  {
   "cell_type": "code",
   "execution_count": 23,
   "metadata": {},
   "outputs": [
    {
     "name": "stdout",
     "output_type": "stream",
     "text": [
      "2\n",
      "     HEY MY NAME IS SAKSHI     \n",
      "     hey my name is sakshi     \n",
      "     Hey My Name Is Sakshi     \n"
     ]
    }
   ],
   "source": [
    "print(s.count(\"a\"))\n",
    "print(s.upper())\n",
    "print(s.lower())\n",
    "print(s.title())"
   ]
  },
  {
   "cell_type": "code",
   "execution_count": 24,
   "metadata": {},
   "outputs": [
    {
     "name": "stdout",
     "output_type": "stream",
     "text": [
      "<class 'int'> 10\n",
      "<class 'float'> 20.54\n",
      "<class 'bool'> True\n",
      "<class 'str'> I am the best\n"
     ]
    }
   ],
   "source": [
    "a = 10\n",
    "print(type(a) , a)\n",
    "b = 20.54\n",
    "print(type(b) , b)\n",
    "c = True\n",
    "print(type(c) , c)\n",
    "d = \"I am the best\"\n",
    "print(type(d) , d)"
   ]
  },
  {
   "cell_type": "code",
   "execution_count": 29,
   "metadata": {},
   "outputs": [
    {
     "name": "stdout",
     "output_type": "stream",
     "text": [
      "[1, 'sakshi', 6.4, 77, 45]\n"
     ]
    }
   ],
   "source": [
    "l=[1,\"sakshi\",6.4,77]\n",
    "l.append(45)\n",
    "print(l)"
   ]
  },
  {
   "cell_type": "code",
   "execution_count": 30,
   "metadata": {},
   "outputs": [],
   "source": [
    "l.remove(\"sakshi\")"
   ]
  },
  {
   "cell_type": "code",
   "execution_count": 31,
   "metadata": {},
   "outputs": [
    {
     "name": "stdout",
     "output_type": "stream",
     "text": [
      "[1, 6.4, 77, 45]\n"
     ]
    }
   ],
   "source": [
    "print(l)"
   ]
  },
  {
   "cell_type": "code",
   "execution_count": 34,
   "metadata": {},
   "outputs": [
    {
     "name": "stdout",
     "output_type": "stream",
     "text": [
      "[1, 77, 45]\n"
     ]
    }
   ],
   "source": [
    "del(l[1])\n",
    "print(l)"
   ]
  },
  {
   "cell_type": "code",
   "execution_count": 43,
   "metadata": {},
   "outputs": [
    {
     "name": "stdout",
     "output_type": "stream",
     "text": [
      "<class 'list'>\n",
      "<class 'tuple'>\n"
     ]
    }
   ],
   "source": [
    "lst = [12,55,5.2,\"sakshi\",44]\n",
    "print(type(lst))\n",
    "tup = tuple(lst)\n",
    "print(type(tup))"
   ]
  },
  {
   "cell_type": "code",
   "execution_count": 47,
   "metadata": {},
   "outputs": [
    {
     "name": "stdout",
     "output_type": "stream",
     "text": [
      "1\n",
      "2\n",
      "3\n",
      "4\n",
      "5\n"
     ]
    }
   ],
   "source": [
    "for r in range(1,6):\n",
    "    print(r)"
   ]
  },
  {
   "cell_type": "code",
   "execution_count": 51,
   "metadata": {},
   "outputs": [
    {
     "name": "stdout",
     "output_type": "stream",
     "text": [
      "{1: 'sakshi', 2: 'swati', 3: 'john'}\n",
      "1\n",
      "2\n",
      "3\n",
      "sakshi\n",
      "swati\n",
      "john\n"
     ]
    }
   ],
   "source": [
    "dict = {1:\"sakshi\" , 2:\"swati\" , 3:\"john\"}\n",
    "print(dict)\n",
    "key = dict.keys()\n",
    "for x in key:\n",
    "    print(x)\n",
    "val = dict.values()\n",
    "for y in val:\n",
    "    print(y)"
   ]
  },
  {
   "cell_type": "code",
   "execution_count": 60,
   "metadata": {},
   "outputs": [
    {
     "name": "stdout",
     "output_type": "stream",
     "text": [
      "['India', 'Japan', 'Austria', 'China']\n",
      "['Bhutan', 'India', 'Japan', 'Austria', 'China']\n",
      "['Bhutan', 'India', 'Austria', 'China']\n"
     ]
    }
   ],
   "source": [
    "l = [\"India\" , \"Japan\" , \"Austria\"]\n",
    "l.append(\"China\")\n",
    "print(l)\n",
    "l.insert(0 , \"Bhutan\")\n",
    "print(l)\n",
    "del(l[2])\n",
    "print(l)"
   ]
  },
  {
   "cell_type": "code",
   "execution_count": 63,
   "metadata": {},
   "outputs": [
    {
     "name": "stdout",
     "output_type": "stream",
     "text": [
      "Name is sakshi, Marks are 93.447\n"
     ]
    }
   ],
   "source": [
    "name = \"sakshi\"\n",
    "marks = 93.447\n",
    "print(\"Name is {}, Marks are {}\".format(name,marks))"
   ]
  },
  {
   "cell_type": "code",
   "execution_count": 68,
   "metadata": {},
   "outputs": [
    {
     "name": "stdout",
     "output_type": "stream",
     "text": [
      "Enter 3 numbers separated by comma : 1,2,3\n",
      "[1, 2, 3]\n"
     ]
    }
   ],
   "source": [
    "lst = [int(x) for x in input(\"Enter 3 numbers separated by comma : \").split(',')]\n",
    "print(lst)"
   ]
  },
  {
   "cell_type": "code",
   "execution_count": 79,
   "metadata": {},
   "outputs": [
    {
     "name": "stdout",
     "output_type": "stream",
     "text": [
      "Enter a number = 6\n",
      "Even\n"
     ]
    }
   ],
   "source": [
    "a = int(input(\"Enter a number = \"))\n",
    "if a==0:\n",
    "    print(\"Neither odd nor even\")\n",
    "elif a%2==0:\n",
    "    print(\"Even\")\n",
    "else:\n",
    "    print(\"Odd\")"
   ]
  },
  {
   "cell_type": "code",
   "execution_count": 82,
   "metadata": {},
   "outputs": [
    {
     "name": "stdout",
     "output_type": "stream",
     "text": [
      "1\n",
      "2\n",
      "3\n",
      "4\n",
      "5\n",
      "6\n",
      "7\n",
      "8\n",
      "9\n",
      "10\n",
      "11\n",
      "12\n",
      "13\n",
      "14\n",
      "15\n",
      "16\n",
      "17\n",
      "18\n",
      "19\n",
      "20\n"
     ]
    }
   ],
   "source": [
    "for x in range(1,21):\n",
    "    print(x)"
   ]
  },
  {
   "cell_type": "code",
   "execution_count": 88,
   "metadata": {},
   "outputs": [
    {
     "name": "stdout",
     "output_type": "stream",
     "text": [
      "1\n",
      "2\n",
      "3\n",
      "4\n",
      "5\n",
      "6\n",
      "7\n",
      "8\n",
      "9\n",
      "10\n",
      "11\n",
      "12\n",
      "13\n",
      "14\n",
      "15\n",
      "16\n",
      "17\n",
      "18\n",
      "19\n",
      "20\n"
     ]
    }
   ],
   "source": [
    "i = 1\n",
    "while i<=20:\n",
    "    print(i)\n",
    "    i+=1\n",
    "    "
   ]
  },
  {
   "cell_type": "code",
   "execution_count": 93,
   "metadata": {
    "scrolled": true
   },
   "outputs": [
    {
     "name": "stdout",
     "output_type": "stream",
     "text": [
      "Enter min no. = 1\n",
      "Enter max no. = 20\n",
      "1\n",
      "3\n",
      "5\n",
      "7\n",
      "9\n",
      "11\n",
      "13\n",
      "15\n",
      "17\n",
      "19\n"
     ]
    }
   ],
   "source": [
    "x = int(input(\"Enter min no. = \"))\n",
    "y = int(input(\"Enter max no. = \"))\n",
    "i=x\n",
    "while i<=y:\n",
    "    print(i)\n",
    "    i+=2"
   ]
  },
  {
   "cell_type": "code",
   "execution_count": 99,
   "metadata": {},
   "outputs": [
    {
     "name": "stdout",
     "output_type": "stream",
     "text": [
      "120\n"
     ]
    }
   ],
   "source": [
    "lst = [1,2,3,4,5]\n",
    "prod = 1\n",
    "for x in lst:\n",
    "    prod*=x #prod = x*prod\n",
    "print(prod)"
   ]
  },
  {
   "cell_type": "code",
   "execution_count": 103,
   "metadata": {},
   "outputs": [
    {
     "name": "stdout",
     "output_type": "stream",
     "text": [
      "0\n",
      "1\n",
      "2\n",
      "3\n",
      "4\n",
      "6\n",
      "7\n",
      "8\n",
      "9\n"
     ]
    }
   ],
   "source": [
    "for x in range(10):\n",
    "    if x==5:\n",
    "        continue\n",
    "    print(x)"
   ]
  },
  {
   "cell_type": "code",
   "execution_count": 6,
   "metadata": {},
   "outputs": [
    {
     "name": "stdout",
     "output_type": "stream",
     "text": [
      "72 /home/sakshi/anaconda3/lib/python3.7/site-packages/ipykernel_launcher.py\n",
      "2 -f\n",
      "90 /home/sakshi/.local/share/jupyter/runtime/kernel-bfc30c7b-5a08-41c1-9967-6bc3a03aeae0.json\n"
     ]
    }
   ],
   "source": [
    "import sys\n",
    "l = sys.argv\n",
    "for x in l:\n",
    "    print(len(x),x)"
   ]
  },
  {
   "cell_type": "code",
   "execution_count": 7,
   "metadata": {},
   "outputs": [
    {
     "name": "stdout",
     "output_type": "stream",
     "text": [
      "Average of two numbers is  7.5\n"
     ]
    }
   ],
   "source": [
    "#average of two numbers\n",
    "def avg(a,b):\n",
    "    print(\"Average of two numbers is \",(a+b)/2)\n",
    "avg(5,10)\n",
    "    "
   ]
  },
  {
   "cell_type": "code",
   "execution_count": 9,
   "metadata": {},
   "outputs": [
    {
     "name": "stdout",
     "output_type": "stream",
     "text": [
      "15.0\n"
     ]
    }
   ],
   "source": [
    "def avg(a,b):\n",
    "    return (a+b)/2\n",
    "print(avg(10,20))"
   ]
  },
  {
   "cell_type": "code",
   "execution_count": 11,
   "metadata": {},
   "outputs": [
    {
     "name": "stdout",
     "output_type": "stream",
     "text": [
      "(30, -10, 200, 0.5)\n"
     ]
    }
   ],
   "source": [
    "def calc(a,b):\n",
    "    x = a+b\n",
    "    y = a-b\n",
    "    z = a*b\n",
    "    w = a/b\n",
    "    return(x,y,z,w)\n",
    "print(calc(10,20))"
   ]
  },
  {
   "cell_type": "code",
   "execution_count": 13,
   "metadata": {},
   "outputs": [
    {
     "name": "stdout",
     "output_type": "stream",
     "text": [
      "120\n"
     ]
    }
   ],
   "source": [
    "#factorial\n",
    "def factorial(n):\n",
    "    if n==0:\n",
    "        return 1\n",
    "    else:\n",
    "        return (n*factorial(n-1))\n",
    "print(factorial(5))"
   ]
  },
  {
   "cell_type": "code",
   "execution_count": 16,
   "metadata": {},
   "outputs": [
    {
     "name": "stdout",
     "output_type": "stream",
     "text": [
      "Samsung\n",
      "Great\n",
      "700\n",
      "Samsung\n",
      "Great\n",
      "700\n"
     ]
    }
   ],
   "source": [
    "#class\n",
    "class Product:\n",
    "    def __init__(self):\n",
    "        self.name=\"Samsung\"\n",
    "        self.desc=\"Great\"\n",
    "        self.price=\"700\"\n",
    "p1 = Product()\n",
    "print(p1.name)\n",
    "print(p1.desc)\n",
    "print(p1.price)\n",
    "\n",
    "p2 = Product()\n",
    "print(p2.name)\n",
    "print(p2.desc)\n",
    "print(p2.price)\n"
   ]
  },
  {
   "cell_type": "code",
   "execution_count": 22,
   "metadata": {},
   "outputs": [
    {
     "name": "stdout",
     "output_type": "stream",
     "text": [
      "Python\n",
      "[1,2,3,4,5]\n",
      "Java\n",
      "[1,2,3,4,5]\n"
     ]
    }
   ],
   "source": [
    "#class\n",
    "class Course:\n",
    "    def __init__(self,name,ratings):\n",
    "        self.name=name\n",
    "        self.ratings=ratings\n",
    "        \n",
    "    def average(self):\n",
    "        \n",
    "c1 = Course(\"Python\",\"[1,2,3,4,5]\")\n",
    "print(c1.name)\n",
    "print(c1.ratings)\n",
    "\n",
    "c2 = Course(\"Java\",\"[1,2,3,4,5]\")\n",
    "print(c2.name)\n",
    "print(c2.ratings)\n",
    "\n"
   ]
  },
  {
   "cell_type": "code",
   "execution_count": 1,
   "metadata": {},
   "outputs": [
    {
     "name": "stdout",
     "output_type": "stream",
     "text": [
      "Enter id = 5555\n",
      "Enter your name = sakshi\n",
      "Enter the marks scored = 98\n",
      "id =  5555 name =  sakshi marks =  98\n"
     ]
    }
   ],
   "source": [
    "id = input(\"Enter id = \")\n",
    "name = input(\"Enter your name = \")\n",
    "marks = int(input(\"Enter the marks scored = \"))\n",
    "print(\"id = \",id, \"name = \",name, \"marks = \",marks)"
   ]
  },
  {
   "cell_type": "code",
   "execution_count": 7,
   "metadata": {},
   "outputs": [
    {
     "name": "stdout",
     "output_type": "stream",
     "text": [
      "Enter three numbers = 1,2,3\n",
      "2.0\n"
     ]
    }
   ],
   "source": [
    "x,y,z = [int(x) for x in input(\"Enter three numbers = \").split(',')]\n",
    "avg = (x+y+z)/3\n",
    "print(avg)"
   ]
  },
  {
   "cell_type": "code",
   "execution_count": 9,
   "metadata": {},
   "outputs": [
    {
     "name": "stdout",
     "output_type": "stream",
     "text": [
      "Enter a radius = 2\n",
      "12.56\n"
     ]
    }
   ],
   "source": [
    "rad = int(input(\"Enter a radius = \"))\n",
    "area = 3.14*rad*rad\n",
    "print(area)"
   ]
  },
  {
   "cell_type": "code",
   "execution_count": null,
   "metadata": {},
   "outputs": [],
   "source": []
  }
 ],
 "metadata": {
  "kernelspec": {
   "display_name": "Python 3",
   "language": "python",
   "name": "python3"
  },
  "language_info": {
   "codemirror_mode": {
    "name": "ipython",
    "version": 3
   },
   "file_extension": ".py",
   "mimetype": "text/x-python",
   "name": "python",
   "nbconvert_exporter": "python",
   "pygments_lexer": "ipython3",
   "version": "3.7.3"
  }
 },
 "nbformat": 4,
 "nbformat_minor": 2
}
